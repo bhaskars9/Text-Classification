{
 "cells": [
  {
   "cell_type": "code",
   "execution_count": 1,
   "id": "c92e1bfb",
   "metadata": {},
   "outputs": [],
   "source": [
    "import pandas as pd\n",
    "import numpy as np\n",
    "import matplotlib.pyplot as plt\n",
    "import seaborn as sns"
   ]
  },
  {
   "cell_type": "code",
   "execution_count": 2,
   "id": "b5f94e76",
   "metadata": {},
   "outputs": [
    {
     "data": {
      "text/html": [
       "<div>\n",
       "<style scoped>\n",
       "    .dataframe tbody tr th:only-of-type {\n",
       "        vertical-align: middle;\n",
       "    }\n",
       "\n",
       "    .dataframe tbody tr th {\n",
       "        vertical-align: top;\n",
       "    }\n",
       "\n",
       "    .dataframe thead th {\n",
       "        text-align: right;\n",
       "    }\n",
       "</style>\n",
       "<table border=\"1\" class=\"dataframe\">\n",
       "  <thead>\n",
       "    <tr style=\"text-align: right;\">\n",
       "      <th></th>\n",
       "      <th>text</th>\n",
       "      <th>label</th>\n",
       "    </tr>\n",
       "  </thead>\n",
       "  <tbody>\n",
       "    <tr>\n",
       "      <th>0</th>\n",
       "      <td>CHAPTER XXV THE LAST STROKE As solicitor turne...</td>\n",
       "      <td>A</td>\n",
       "    </tr>\n",
       "    <tr>\n",
       "      <th>1</th>\n",
       "      <td>The pretty widow Mr Ferrars pardon cousin spok...</td>\n",
       "      <td>A</td>\n",
       "    </tr>\n",
       "    <tr>\n",
       "      <th>2</th>\n",
       "      <td>One naturally would place Yes I suppose went r...</td>\n",
       "      <td>A</td>\n",
       "    </tr>\n",
       "    <tr>\n",
       "      <th>3</th>\n",
       "      <td>In short could throw light upon mystery brothe...</td>\n",
       "      <td>A</td>\n",
       "    </tr>\n",
       "    <tr>\n",
       "      <th>4</th>\n",
       "      <td>Well hear Miss Grant say Miss Grant group gate...</td>\n",
       "      <td>A</td>\n",
       "    </tr>\n",
       "  </tbody>\n",
       "</table>\n",
       "</div>"
      ],
      "text/plain": [
       "                                                text label\n",
       "0  CHAPTER XXV THE LAST STROKE As solicitor turne...     A\n",
       "1  The pretty widow Mr Ferrars pardon cousin spok...     A\n",
       "2  One naturally would place Yes I suppose went r...     A\n",
       "3  In short could throw light upon mystery brothe...     A\n",
       "4  Well hear Miss Grant say Miss Grant group gate...     A"
      ]
     },
     "execution_count": 2,
     "metadata": {},
     "output_type": "execute_result"
    }
   ],
   "source": [
    "df = pd.read_csv('filteredRecords.csv')\n",
    "df.head()"
   ]
  },
  {
   "cell_type": "markdown",
   "id": "3bad934a",
   "metadata": {},
   "source": [
    "# Bag OF Words"
   ]
  },
  {
   "cell_type": "code",
   "execution_count": 4,
   "id": "6a38b0fc",
   "metadata": {},
   "outputs": [
    {
     "data": {
      "text/plain": [
       "(1000, 150)"
      ]
     },
     "execution_count": 4,
     "metadata": {},
     "output_type": "execute_result"
    }
   ],
   "source": [
    "from sklearn.feature_extraction.text import CountVectorizer\n",
    "\n",
    "cv = CountVectorizer(max_features = 150)\n",
    "X = cv.fit_transform(df.text).toarray()\n",
    "X.shape"
   ]
  },
  {
   "cell_type": "code",
   "execution_count": 5,
   "id": "2dc9a6c0",
   "metadata": {},
   "outputs": [],
   "source": [
    "# BOW_df = pd.DataFrame(X,columns = cv.get_feature_names())\n",
    "# BOW_df.head()"
   ]
  },
  {
   "cell_type": "code",
   "execution_count": 6,
   "id": "3984edb2",
   "metadata": {},
   "outputs": [],
   "source": [
    "# plt.figure(figsize=(18,7))\n",
    "# sns.heatmap(BOW_df, cbar =False,yticklabels = False, cmap = 'rocket_r')"
   ]
  },
  {
   "cell_type": "markdown",
   "id": "ab174040",
   "metadata": {},
   "source": [
    "# TF - IDF"
   ]
  },
  {
   "cell_type": "code",
   "execution_count": 7,
   "id": "78acfb31-b639-4046-8882-85367f126384",
   "metadata": {},
   "outputs": [
    {
     "name": "stdout",
     "output_type": "stream",
     "text": [
      "(1000, 150)\n"
     ]
    }
   ],
   "source": [
    "from sklearn.feature_extraction.text import TfidfTransformer\n",
    "tf_transformer = TfidfTransformer(use_idf=False).fit(X)\n",
    "X_train_tf = tf_transformer.transform(X)\n",
    "X_train_tf.shape\n",
    "print(X_train_tf.shape)"
   ]
  },
  {
   "cell_type": "code",
   "execution_count": 8,
   "id": "a670b3fb-6a64-4884-8368-cf1da6e04fde",
   "metadata": {},
   "outputs": [
    {
     "name": "stdout",
     "output_type": "stream",
     "text": [
      "(1000, 150)\n"
     ]
    }
   ],
   "source": [
    "tfidf_transformer = TfidfTransformer()\n",
    "X_train_tfidf = tfidf_transformer.fit_transform(X)\n",
    "X_train_tfidf.shape\n",
    "print(X_train_tfidf.shape)"
   ]
  },
  {
   "cell_type": "code",
   "execution_count": 23,
   "id": "4ef0bd49-13c2-4e4f-a50e-b5abe584e047",
   "metadata": {},
   "outputs": [
    {
     "name": "stdout",
     "output_type": "stream",
     "text": [
      "  (0, 7)\t0.2672612419124244\n",
      "  (0, 43)\t0.2672612419124244\n",
      "  (0, 56)\t0.2672612419124244\n",
      "  (0, 64)\t0.2672612419124244\n",
      "  (0, 74)\t0.2672612419124244\n",
      "  (0, 77)\t0.5345224838248488\n",
      "  (0, 106)\t0.2672612419124244\n",
      "  (0, 115)\t0.2672612419124244\n",
      "  (0, 120)\t0.2672612419124244\n",
      "  (0, 132)\t0.2672612419124244\n",
      "  (0, 146)\t0.2672612419124244\n",
      "  (1, 2)\t0.4364357804719848\n",
      "  (1, 7)\t0.4364357804719848\n",
      "  (1, 28)\t0.2182178902359924\n",
      "  (1, 73)\t0.2182178902359924\n",
      "  (1, 77)\t0.4364357804719848\n",
      "  (1, 80)\t0.2182178902359924\n",
      "  (1, 99)\t0.2182178902359924\n",
      "  (1, 107)\t0.2182178902359924\n",
      "  (1, 112)\t0.2182178902359924\n",
      "  (1, 120)\t0.2182178902359924\n",
      "  (1, 125)\t0.2182178902359924\n",
      "  (1, 129)\t0.2182178902359924\n",
      "  (2, 8)\t0.2886751345948129\n",
      "  (2, 11)\t0.2886751345948129\n",
      "  :\t:\n",
      "  (997, 146)\t0.21320071635561041\n",
      "  (997, 147)\t0.21320071635561041\n",
      "  (998, 20)\t0.2773500981126146\n",
      "  (998, 61)\t0.2773500981126146\n",
      "  (998, 70)\t0.2773500981126146\n",
      "  (998, 78)\t0.2773500981126146\n",
      "  (998, 82)\t0.5547001962252291\n",
      "  (998, 83)\t0.2773500981126146\n",
      "  (998, 102)\t0.2773500981126146\n",
      "  (998, 105)\t0.2773500981126146\n",
      "  (998, 110)\t0.2773500981126146\n",
      "  (998, 138)\t0.2773500981126146\n",
      "  (999, 7)\t0.2773500981126146\n",
      "  (999, 10)\t0.2773500981126146\n",
      "  (999, 11)\t0.2773500981126146\n",
      "  (999, 18)\t0.2773500981126146\n",
      "  (999, 31)\t0.2773500981126146\n",
      "  (999, 56)\t0.2773500981126146\n",
      "  (999, 104)\t0.2773500981126146\n",
      "  (999, 105)\t0.2773500981126146\n",
      "  (999, 112)\t0.2773500981126146\n",
      "  (999, 114)\t0.2773500981126146\n",
      "  (999, 120)\t0.2773500981126146\n",
      "  (999, 133)\t0.2773500981126146\n",
      "  (999, 134)\t0.2773500981126146\n"
     ]
    }
   ],
   "source": [
    "print(X_train_tf)"
   ]
  },
  {
   "cell_type": "markdown",
   "id": "31bdc5fa",
   "metadata": {},
   "source": [
    "# N-Gram"
   ]
  },
  {
   "cell_type": "markdown",
   "id": "1827a3db",
   "metadata": {},
   "source": [
    "# LDA"
   ]
  },
  {
   "cell_type": "code",
   "execution_count": null,
   "id": "242e07d0",
   "metadata": {},
   "outputs": [],
   "source": []
  }
 ],
 "metadata": {
  "kernelspec": {
   "display_name": "Python 3 (ipykernel)",
   "language": "python",
   "name": "python3"
  },
  "language_info": {
   "codemirror_mode": {
    "name": "ipython",
    "version": 3
   },
   "file_extension": ".py",
   "mimetype": "text/x-python",
   "name": "python",
   "nbconvert_exporter": "python",
   "pygments_lexer": "ipython3",
   "version": "3.10.1"
  }
 },
 "nbformat": 4,
 "nbformat_minor": 5
}
